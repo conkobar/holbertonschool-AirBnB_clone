{
 "cells": [
  {
   "cell_type": "markdown",
   "metadata": {},
   "source": [
    "## TO-DO:\n",
    "- ~~fix border not going all the way across on the header and the footer~~\n",
    "- see if i can condense my stylesheet links\n",
    "- ~~go back and clean up my old styles to be up to date with most recent~~\n",
    "- ~~make my search button not fucking tiny~~\n",
    "- ~~struggling to make dropdown list work effectively on task 6~~\n",
    "- logo & icon using url to embed instead of using path\n",
    "- ~~task 7 search button is smaller~~\n",
    "- ~~make articles wrap; article boxes not wrapping correctly~~\n",
    "- task 8:\n",
    "    - html needs lots of work\n",
    "    - add images to page \n",
    "    - add flavor text to the boxes\n",
    "    - owner needs flavor text as well"
   ]
  },
  {
   "cell_type": "markdown",
   "metadata": {},
   "source": [
    "## QUESTIONS:\n",
    "- how does inheritance work in html?\n",
    "  - like, how does flexbox work, and does it inherit if you make a new subclass??\n",
    "- what is the interaction between class declarations // selectors\n"
   ]
  },
  {
   "cell_type": "markdown",
   "metadata": {},
   "source": [
    "## ALANNAH <3:\n",
    "- come up with a color organized system for:\n",
    "    - trigger\n",
    "    - feeling\n",
    "    - why you thought you were mad\n",
    "    - why you're actually mad\n",
    "    - recall the initial wound\n",
    "    - etc\n",
    "- ADHD, CPTSD, AUTISM, TRAUMA, EVENT(?), SYMPTOM, WHERE ARE YOU STORING IT;\n",
    "  - how do these conditions affect other complex disorders, such as eating disorders, drug abuse, neglect, religion, etc.\n",
    "- look into notion"
   ]
  }
 ],
 "metadata": {
  "kernelspec": {
   "display_name": "Python 3.8.10 64-bit",
   "language": "python",
   "name": "python3"
  },
  "language_info": {
   "codemirror_mode": {
    "name": "ipython",
    "version": 3
   },
   "file_extension": ".py",
   "mimetype": "text/x-python",
   "name": "python",
   "nbconvert_exporter": "python",
   "pygments_lexer": "ipython3",
   "version": "3.8.10"
  },
  "orig_nbformat": 4,
  "vscode": {
   "interpreter": {
    "hash": "916dbcbb3f70747c44a77c7bcd40155683ae19c65e1c03b4aa3499c5328201f1"
   }
  }
 },
 "nbformat": 4,
 "nbformat_minor": 2
}
