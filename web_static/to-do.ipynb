{
 "cells": [
  {
   "cell_type": "markdown",
   "metadata": {},
   "source": [
    "## TO-DO:\n",
    "- ~~fix border not going all the way across on the header and the footer~~\n",
    "  - it was the border set to none instead of 0 in common.css\n",
    "- see if i can condense my stylesheet links\n",
    "- ~~go back and clean up my old styles to be up to date with most recent~~\n",
    "- ~~make my search button not fucking tiny~~\n",
    "- ~~struggling to make dropdown list work effectively on task 6~~\n",
    "- logo & icon using url to embed instead of using path\n",
    "- ~~task 7 search button is smaller~~\n",
    "- make articles wrap; article boxes not wrapping correctly"
   ]
  },
  {
   "cell_type": "markdown",
   "metadata": {},
   "source": [
    "## QUESTIONS:\n",
    "- how does inheritance work in html?\n",
    "  - like, how does flexbox work, and does it inherit if you make a new subclass??"
   ]
  }
 ],
 "metadata": {
  "kernelspec": {
   "display_name": "Python 3.8.10 64-bit",
   "language": "python",
   "name": "python3"
  },
  "language_info": {
   "name": "python",
   "version": "3.8.10"
  },
  "orig_nbformat": 4,
  "vscode": {
   "interpreter": {
    "hash": "916dbcbb3f70747c44a77c7bcd40155683ae19c65e1c03b4aa3499c5328201f1"
   }
  }
 },
 "nbformat": 4,
 "nbformat_minor": 2
}
